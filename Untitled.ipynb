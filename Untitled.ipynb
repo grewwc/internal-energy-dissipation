{
 "cells": [
  {
   "cell_type": "code",
   "execution_count": 2,
   "metadata": {},
   "outputs": [],
   "source": [
    "# %load q1.py\n",
    "from sympy import *\n",
    "import numpy as np \n",
    "\n",
    "t = Symbol('t')\n",
    "h1 = Symbol('h1', constant=True)\n",
    "h2 = Symbol('h2', constant=True)\n",
    "h3 = Symbol('h3', constant=True)\n",
    "\n",
    "\n",
    "Omega1 = Symbol(\"Omega1\")\n",
    "Omega2 = Symbol(\"Omega2\")\n",
    "Omega3 = Symbol(\"Omega3\")\n",
    "\n",
    "gamma1 = Symbol(\"gamma1\")\n",
    "gamma2 = Symbol(\"gamma2\")\n",
    "gamma3 = Symbol(\"gamma3\")\n",
    "\n",
    "\n",
    "B = Matrix([\n",
    "    [Omega2**2+Omega3**2-gamma1, -(2*Omega1*Omega2)/(1+h1**2), -(2*Omega1*Omega3)/(1+h1**2*h2**2)],\n",
    "    [-(2*h1**2*Omega1*Omega2)/(1+h1**2), Omega1**2+Omega3**2-gamma2, -(2*Omega1*Omega3)/(1+h2**2)],\n",
    "    [-(2*h1**2*h2**2*Omega1*Omega3)/(1+h1**2*h2**2), -(2*h2**2*Omega1*Omega3)/(1+h2**2), Omega1**2+Omega2**2-gamma3]\n",
    "])\n",
    "\n"
   ]
  },
  {
   "cell_type": "code",
   "execution_count": 3,
   "metadata": {},
   "outputs": [],
   "source": [
    "init_printing()"
   ]
  },
  {
   "cell_type": "code",
   "execution_count": 4,
   "metadata": {},
   "outputs": [
    {
     "data": {
      "image/png": "[encoded data removed]",
      "text/latex": [
       "$$\\left[\\begin{matrix}\\Omega_{2}^{2} + \\Omega_{3}^{2} - \\gamma_{1} & - \\frac{2 \\Omega_{1} \\Omega_{2}}{h_{1}^{2} + 1} & - \\frac{2 \\Omega_{1} \\Omega_{3}}{h_{1}^{2} h_{2}^{2} + 1}\\\\- \\frac{2 \\Omega_{1} \\Omega_{2} h_{1}^{2}}{h_{1}^{2} + 1} & \\Omega_{1}^{2} + \\Omega_{3}^{2} - \\gamma_{2} & - \\frac{2 \\Omega_{1} \\Omega_{3}}{h_{2}^{2} + 1}\\\\- \\frac{2 \\Omega_{1} \\Omega_{3} h_{1}^{2} h_{2}^{2}}{h_{1}^{2} h_{2}^{2} + 1} & - \\frac{2 \\Omega_{1} \\Omega_{3} h_{2}^{2}}{h_{2}^{2} + 1} & \\Omega_{1}^{2} + \\Omega_{2}^{2} - \\gamma_{3}\\end{matrix}\\right]$$"
      ],
      "text/plain": [
       "⎡   2     2           -2⋅Ω₁⋅Ω₂        -2⋅Ω₁⋅Ω₃    ⎤\n",
       "⎢ Ω₂  + Ω₃  - γ₁      ─────────      ───────────  ⎥\n",
       "⎢                        2             2   2      ⎥\n",
       "⎢                      h₁  + 1       h₁ ⋅h₂  + 1  ⎥\n",
       "⎢                                                 ⎥\n",
       "⎢             2                                   ⎥\n",
       "⎢  -2⋅Ω₁⋅Ω₂⋅h₁        2     2         -2⋅Ω₁⋅Ω₃    ⎥\n",
       "⎢  ─────────────    Ω₁  + Ω₃  - γ₂    ─────────   ⎥\n",
       "⎢       2                                2        ⎥\n",
       "⎢     h₁  + 1                          h₂  + 1    ⎥\n",
       "⎢                                                 ⎥\n",
       "⎢           2   2              2                  ⎥\n",
       "⎢-2⋅Ω₁⋅Ω₃⋅h₁ ⋅h₂    -2⋅Ω₁⋅Ω₃⋅h₂       2     2     ⎥\n",
       "⎢─────────────────  ─────────────   Ω₁  + Ω₂  - γ₃⎥\n",
       "⎢     2   2              2                        ⎥\n",
       "⎣   h₁ ⋅h₂  + 1        h₂  + 1                    ⎦"
      ]
     },
     "execution_count": 4,
     "metadata": {},
     "output_type": "execute_result"
    }
   ],
   "source": [
    "B"
   ]
  },
  {
   "cell_type": "code",
   "execution_count": null,
   "metadata": {},
   "outputs": [],
   "source": []
  },
  {
   "cell_type": "code",
   "execution_count": null,
   "metadata": {},
   "outputs": [],
   "source": []
  },
  {
   "cell_type": "code",
   "execution_count": null,
   "metadata": {},
   "outputs": [],
   "source": []
  },
  {
   "cell_type": "code",
   "execution_count": null,
   "metadata": {},
   "outputs": [],
   "source": []
  },
  {
   "cell_type": "code",
   "execution_count": null,
   "metadata": {},
   "outputs": [],
   "source": []
  }
 ],
 "metadata": {
  "kernelspec": {
   "display_name": "Python 3.6.8 64-bit",
   "language": "python",
   "name": "python36864bit87c8cc4f523e4db4abd83c94c16f63cf"
  },
  "language_info": {
   "codemirror_mode": {
    "name": "ipython",
    "version": 3
   },
   "file_extension": ".py",
   "mimetype": "text/x-python",
   "name": "python",
   "nbconvert_exporter": "python",
   "pygments_lexer": "ipython3",
   "version": "3.6.8"
  }
 },
 "nbformat": 4,
 "nbformat_minor": 2
}
